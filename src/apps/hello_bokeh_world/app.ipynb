{
 "cells": [
  {
   "source": [
    "# Minimal Bokeh Hello World Example"
   ],
   "cell_type": "markdown",
   "metadata": {}
  },
  {
   "cell_type": "code",
   "execution_count": 1,
   "metadata": {},
   "outputs": [],
   "source": [
    "from bokeh.plotting import curdoc\n",
    "from bokeh.models import Div"
   ]
  },
  {
   "cell_type": "code",
   "execution_count": 2,
   "metadata": {},
   "outputs": [],
   "source": [
    "app=curdoc()\n",
    "model=Div(text=\"<h1>Hello Bokeh World from .py Code File</h1>\", sizing_mode=\"stretch_width\")\n",
    "app.add_root(model)"
   ]
  },
  {
   "source": [
    "You can also convert your bokeh model into a Panel object via `panel.pane.Bokeh(model)`"
   ],
   "cell_type": "markdown",
   "metadata": {}
  }
 ],
 "metadata": {
  "kernelspec": {
   "display_name": "Python 3",
   "language": "python",
   "name": "python3"
  },
  "language_info": {
   "codemirror_mode": {
    "name": "ipython",
    "version": 3
   },
   "file_extension": ".py",
   "mimetype": "text/x-python",
   "name": "python",
   "nbconvert_exporter": "python",
   "pygments_lexer": "ipython3",
   "version": "3.7.6-final"
  }
 },
 "nbformat": 4,
 "nbformat_minor": 2
}